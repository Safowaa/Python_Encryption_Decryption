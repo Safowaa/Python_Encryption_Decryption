{
 "cells": [
  {
   "cell_type": "code",
   "execution_count": 10,
   "id": "72f93c5a-8139-4d98-a483-ce68b1a0aac3",
   "metadata": {},
   "outputs": [
    {
     "name": "stdout",
     "output_type": "stream",
     "text": [
      "------- Welcome to Safs Encryption Services -------\n",
      "\n",
      "\n",
      "    >>>> Enter 1 : To encrypt a message\n",
      "    >>>> Enter 2 : To decrypt a message\n",
      "    \n"
     ]
    },
    {
     "name": "stdout",
     "output_type": "stream",
     "text": [
      "Please Select An Option Above:  1\n",
      "\n",
      "Enter your message for encryption:  just work please, i am tired\n"
     ]
    },
    {
     "name": "stdout",
     "output_type": "stream",
     "text": [
      "\n",
      "Encrypted message:  grpq tloh mibxpb, f xj qfoba\n",
      "\n",
      "-------Thank you for using our services-------\n"
     ]
    }
   ],
   "source": [
    "# Defining the alphabets to be used\n",
    "letters_upper = 'ABCDEFGHIJKLMNOPQRSTUVWXYZ' \n",
    "letters_lower = 'abcdefghijklmnopqrstuvwxyz'\n",
    "\n",
    "\n"
   ]
  }
 ],
 "metadata": {
  "kernelspec": {
   "display_name": "Python 3 (ipykernel)",
   "language": "python",
   "name": "python3"
  },
  "language_info": {
   "codemirror_mode": {
    "name": "ipython",
    "version": 3
   },
   "file_extension": ".py",
   "mimetype": "text/x-python",
   "name": "python",
   "nbconvert_exporter": "python",
   "pygments_lexer": "ipython3",
   "version": "3.10.11"
  }
 },
 "nbformat": 4,
 "nbformat_minor": 5
}
