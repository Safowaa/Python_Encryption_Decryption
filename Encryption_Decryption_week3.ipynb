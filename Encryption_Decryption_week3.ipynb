{
 "cells": [
  {
   "cell_type": "code",
   "execution_count": 5,
   "id": "72f93c5a-8139-4d98-a483-ce68b1a0aac3",
   "metadata": {},
   "outputs": [
    {
     "name": "stdout",
     "output_type": "stream",
     "text": [
      "------- Welcome to Safs Encryption and Decription Services -------\n",
      "\n",
      "\n",
      "    >>>> Enter 1 : To encrypt a message\n",
      "    >>>> Enter 2 : To decrypt a message\n",
      "    \n",
      "\n",
      "Decrypted message: Welcome to my git repository, here codes are simplified to the understanding of kids. Thank you\n",
      "\n",
      "-------Thank you for using our services-------\n"
     ]
    }
   ],
   "source": [
    "# Defining the alphabets to be used\n",
    "letters_upper = 'ABCDEFGHIJKLMNOPQRSTUVWXYZ' \n",
    "letters_lower = 'abcdefghijklmnopqrstuvwxyz'\n",
    "\n",
    "# Setting the number of places to shift the alphabets during encryption\n",
    "shift_amount = 3\n",
    "\n",
    "# Function to encrypt messages\n",
    "def encrypt_message(original_message, shift):\n",
    "    encrypted_message = \"\" # Empty string created to store encrypted message\n",
    "    for character in original_message:\n",
    "        if character.isupper():  # Checks if the character is an uppercase letter  \n",
    "            index = letters_upper.index(character) # Finds the index of the character\n",
    "            shifted_index = (index - shift) % 26 # Calculates the new index using the shift amount\n",
    "            encrypted_message += letters_upper[shifted_index] # Appends the encrypted character to the encrypted message\n",
    "       \n",
    "        elif character.islower():  # Checks if the character is a lowercase letter \n",
    "             index = letters_lower.index(character)\n",
    "             shifted_index = (index - shift) % 26\n",
    "             encrypted_message += letters_lower[shifted_index] \n",
    "        else:\n",
    "            encrypted_message += character  # Keep non-alphabetic characters unchanged\n",
    "    return encrypted_message    # Returns the encrypted message\n",
    "\n",
    "\n",
    "# Function to decrypt messages\n",
    "def decrypt_message(encrypted_message, shift):\n",
    "    return encrypt_message(encrypted_message, -shift) # Calls the encryption function with a negative shift amount to decrypt\n",
    "# Function to display encryption options\n",
    "def encryption_options():\n",
    "    print ('''\n",
    "    >>>> Enter 1 : To encrypt a message\n",
    "    >>>> Enter 2 : To decrypt a message\n",
    "    ''')\n",
    "\n",
    "\n",
    "print('------- Welcome to Safs Encryption and Decription Services -------\\n') # Welcome message for user\n",
    "\n",
    "encryption_options()  # Displays the options for user to select a preference                                     \n",
    "\n",
    "user_choice = int(input('Please Select An Option Above: '))\n",
    "\n",
    "# Encrypt or decrypt user's message based on selection made\n",
    "if user_choice == 1:\n",
    "    message = input(\"\\nEnter your message for encryption: \")\n",
    "    encrypted_message = encrypt_message(message, shift_amount)\n",
    "    print(\"\\nEncrypted message: \", encrypted_message)\n",
    "elif user_choice == 2:\n",
    "    message = input(\"\\nEnter your message for decryption: \")\n",
    "    decrypted_message = decrypt_message(message, shift_amount)\n",
    "    print(\"\\nDecrypted message:\", decrypted_message)\n",
    "else:\n",
    "    print('No valid option selected')\n",
    "\n",
    "print('\\n-------Thank you for using our services-------')"
   ]
  }
 ],
 "metadata": {
  "kernelspec": {
   "display_name": "Python 3 (ipykernel)",
   "language": "python",
   "name": "python3"
  },
  "language_info": {
   "codemirror_mode": {
    "name": "ipython",
    "version": 3
   },
   "file_extension": ".py",
   "mimetype": "text/x-python",
   "name": "python",
   "nbconvert_exporter": "python",
   "pygments_lexer": "ipython3",
   "version": "3.10.11"
  }
 },
 "nbformat": 4,
 "nbformat_minor": 5
}
